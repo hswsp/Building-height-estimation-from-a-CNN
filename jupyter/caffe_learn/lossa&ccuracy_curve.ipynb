{
 "cells": [
  {
   "cell_type": "code",
   "execution_count": 1,
   "metadata": {},
   "outputs": [],
   "source": [
    "#加载必要的库\n",
    "import numpy as np\n",
    "import matplotlib.pyplot as plt\n",
    "%matplotlib inline\n",
    "import sys,os,caffe\n",
    "#设置当前目录\n",
    "caffe_root = '/home/Shengping/caffe/' \n",
    "sys.path.insert(0, caffe_root + 'python')\n",
    "os.chdir(caffe_root)"
   ]
  },
  {
   "cell_type": "code",
   "execution_count": 2,
   "metadata": {},
   "outputs": [],
   "source": [
    "# set the solver prototxt\n",
    "caffe.set_device(0)\n",
    "caffe.set_mode_gpu()\n",
    "solver = caffe.SGDSolver('examples/cifar10/cifar10_quick_solver.prototxt')"
   ]
  },
  {
   "cell_type": "markdown",
   "metadata": {},
   "source": [
    "如果不需要绘制曲线，只需要训练出一个caffemodel, 直接调用solver.solve()就可以了。如果要绘制曲线，就需要把迭代过程中的值\n",
    "保存下来，因此不能直接调用solver.solve(), 需要迭代。在迭代过程中，每迭代200次测试一次"
   ]
  },
  {
   "cell_type": "code",
   "execution_count": 3,
   "metadata": {},
   "outputs": [
    {
     "name": "stdout",
     "output_type": "stream",
     "text": [
      "Iteration 0 testing... accuracy: 0.140000000596\n",
      "Iteration 200 testing... accuracy: 0.439999997616\n",
      "Iteration 400 testing... accuracy: 0.439999997616\n",
      "Iteration 600 testing... accuracy: 0.560000002384\n",
      "Iteration 800 testing... accuracy: 0.600000023842\n",
      "Iteration 1000 testing... accuracy: 0.649999976158\n",
      "Iteration 1200 testing... accuracy: 0.670000016689\n",
      "Iteration 1400 testing... accuracy: 0.709999978542\n",
      "Iteration 1600 testing... accuracy: 0.670000016689\n",
      "Iteration 1800 testing... accuracy: 0.689999997616\n",
      "Iteration 2000 testing... accuracy: 0.72000002861\n",
      "Iteration 2200 testing... accuracy: 0.699999988079\n",
      "Iteration 2400 testing... accuracy: 0.72000002861\n",
      "Iteration 2600 testing... accuracy: 0.759999990463\n",
      "Iteration 2800 testing... accuracy: 0.730000019073\n",
      "Iteration 3000 testing... accuracy: 0.75\n",
      "Iteration 3200 testing... accuracy: 0.75\n",
      "Iteration 3400 testing... accuracy: 0.72000002861\n",
      "Iteration 3600 testing... accuracy: 0.75\n",
      "Iteration 3800 testing... accuracy: 0.759999990463\n",
      "CPU times: user 46.6 s, sys: 19.5 s, total: 1min 6s\n",
      "Wall time: 1min 8s\n"
     ]
    }
   ],
   "source": [
    "%%time\n",
    "niter =4000\n",
    "test_interval = 200\n",
    "train_loss = np.zeros(niter)\n",
    "test_acc = np.zeros(int(np.ceil(niter / test_interval)))\n",
    "\n",
    "# the main solver loop\n",
    "for it in range(niter):\n",
    "    solver.step(1)  # SGD by Caffe\n",
    "    \n",
    "    # store the train loss\n",
    "    train_loss[it] = solver.net.blobs['loss'].data\n",
    "    solver.test_nets[0].forward(start='conv1')\n",
    "    \n",
    "    if it % test_interval == 0:\n",
    "        acc=solver.test_nets[0].blobs['accuracy'].data\n",
    "        print 'Iteration', it, 'testing...','accuracy:',acc\n",
    "        test_acc[it / test_interval] = acc"
   ]
  },
  {
   "cell_type": "markdown",
   "metadata": {},
   "source": [
    "绘制train过程中的loss曲线，和测试过程中的accuracy曲线。"
   ]
  },
  {
   "cell_type": "code",
   "execution_count": 4,
   "metadata": {},
   "outputs": [
    {
     "name": "stdout",
     "output_type": "stream",
     "text": [
      "[ 0.14        0.44        0.44        0.56        0.60000002  0.64999998\n",
      "  0.67000002  0.70999998  0.67000002  0.69        0.72000003  0.69999999\n",
      "  0.72000003  0.75999999  0.73000002  0.75        0.75        0.72000003\n",
      "  0.75        0.75999999]\n"
     ]
    },
    {
     "data": {
      "text/plain": [
       "<matplotlib.text.Text at 0x7f62f00104d0>"
      ]
     },
     "execution_count": 4,
     "metadata": {},
     "output_type": "execute_result"
    },
    {
     "data": {
      "image/png": "[encoded data removed]",
      "text/plain": [
       "<matplotlib.figure.Figure at 0x7f62f4115dd0>"
      ]
     },
     "metadata": {},
     "output_type": "display_data"
    }
   ],
   "source": [
    "print test_acc\n",
    "_, ax1 = plt.subplots()\n",
    "ax2 = ax1.twinx()\n",
    "ax1.plot(np.arange(niter), train_loss)\n",
    "ax2.plot(test_interval * np.arange(len(test_acc)), test_acc, 'r')\n",
    "ax1.set_xlabel('iteration')\n",
    "ax1.set_ylabel('train loss')\n",
    "ax2.set_ylabel('test accuracy')"
   ]
  },
  {
   "cell_type": "code",
   "execution_count": null,
   "metadata": {},
   "outputs": [],
   "source": []
  }
 ],
 "metadata": {
  "kernelspec": {
   "display_name": "Python 2",
   "language": "python",
   "name": "python2"
  },
  "language_info": {
   "codemirror_mode": {
    "name": "ipython",
    "version": 2
   },
   "file_extension": ".py",
   "mimetype": "text/x-python",
   "name": "python",
   "nbconvert_exporter": "python",
   "pygments_lexer": "ipython2",
   "version": "2.7.12"
  }
 },
 "nbformat": 4,
 "nbformat_minor": 2
}
