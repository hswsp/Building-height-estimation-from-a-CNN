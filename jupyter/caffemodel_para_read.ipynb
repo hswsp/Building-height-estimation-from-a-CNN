{
 "cells": [
  {
   "cell_type": "code",
   "execution_count": 1,
   "metadata": {},
   "outputs": [],
   "source": [
    "#!/usr/bin/env python\n",
    "\n",
    "# 引入“咖啡”\n",
    "import caffe\n",
    "import numpy as np\n",
    "import os,sys\n",
    "from PIL import Image\n",
    "\n",
    "work_root='/home/smiletranquilly/FYP/'\n",
    "sys.path.append(\"/home/Shengping/caffe/python\")\n",
    "os.chdir(work_root) #工作路径\n",
    "\n",
    "# 使输出的参数完全显示\n",
    "# 若没有这一句，因为参数太多，中间会以省略号“……”的形式代替\n",
    "np.set_printoptions(threshold='nan')\n",
    "\n"
   ]
  },
  {
   "cell_type": "code",
   "execution_count": 2,
   "metadata": {},
   "outputs": [
    {
     "ename": "SyntaxError",
     "evalue": "invalid syntax (<ipython-input-2-0e5d5fde391c>, line 47)",
     "output_type": "error",
     "traceback": [
      "\u001b[0;36m  File \u001b[0;32m\"<ipython-input-2-0e5d5fde391c>\"\u001b[0;36m, line \u001b[0;32m47\u001b[0m\n\u001b[0;31m    print %w\u001b[0m\n\u001b[0m          ^\u001b[0m\n\u001b[0;31mSyntaxError\u001b[0m\u001b[0;31m:\u001b[0m invalid syntax\n"
     ]
    }
   ],
   "source": [
    "# deploy文件\n",
    "MODEL_FILE = 'largeImage/texture_googlenet_deploy.prototxt'\n",
    "# 预先训练好的caffe模型\n",
    "PRETRAIN_FILE = 'largeImage/texture_new_normal_fractal_pertex_googlenet_iter_100000.caffemodel'\n",
    "\n",
    "\n",
    "# load image, switch to BGR, subtract mean, and make dims C x H x W for Caffe\n",
    "im = Image.open('row9_col58.bmp')\n",
    "in_ = np.array(im, dtype=np.float32)\n",
    "in_ = in_[:,:,::-1]\n",
    "#in_ -= np.array((104.00698793,116.66876762,122.67891434))\n",
    "in_ = in_.transpose((2,0,1))\n",
    "\n",
    "\n",
    "if not os.path.isfile(work_root+MODEL_FILE):\n",
    "    print('CaffeNet not found.')\n",
    "elif  not os.path.isfile(work_root+PRETRAIN_FILE):\n",
    "    print('CaffeModel not found')\n",
    "else:    \n",
    "    # 保存参数的文件\n",
    "#    params_txt = 'params.txt'\n",
    "#    pf = open(params_txt, 'w')\n",
    "\n",
    "    # 让caffe以测试模式读取网络参数\n",
    "    net = caffe.Net(MODEL_FILE, PRETRAIN_FILE, caffe.TEST)\n",
    "\n",
    "    # 遍历每一层\n",
    "    for param_name in net.params.keys():\n",
    "        # 权重参数\n",
    "        weight = net.params[param_name][0].data\n",
    "        # 偏置参数\n",
    "        bias = net.params[param_name][1].data\n",
    "\n",
    "        # 该层在prototxt文件中对应“top”的名称\n",
    "#        pf.write(param_name)\n",
    "#        pf.write('\\n')\n",
    "        print param_name\n",
    "\n",
    "        # 写权重参数\n",
    "#         pf.write('\\n' + param_name + '_weight:\\n\\n')\n",
    "        print param_name+ '_weight:\\n'\n",
    "        # 权重参数是多维数组，为了方便输出，转为单列数组\n",
    "        weight.shape = (-1, 1)\n",
    "\n",
    "        for w in weight:\n",
    "#             pf.write('%ff, ' % w)\n",
    "            print w\n",
    "        # 写偏置参数\n",
    "#         pf.write('\\n\\n' + param_name + '_bias:\\n\\n')\n",
    "        print param_name + '_bias:\\n'\n",
    "        # 偏置参数是多维数组，为了方便输出，转为单列数组\n",
    "        bias.shape = (-1, 1)\n",
    "        for b in bias:\n",
    "#             pf.write('%ff, ' % b)\n",
    "            print b\n",
    "        pf.write('\\n\\n')\n",
    "\n",
    "    pf.close"
   ]
  },
  {
   "cell_type": "code",
   "execution_count": null,
   "metadata": {},
   "outputs": [],
   "source": [
    "w=[1 2 3 4 5 6 7 8 9 0]"
   ]
  }
 ],
 "metadata": {
  "kernelspec": {
   "display_name": "Python 2",
   "language": "python",
   "name": "python2"
  },
  "language_info": {
   "codemirror_mode": {
    "name": "ipython",
    "version": 2
   },
   "file_extension": ".py",
   "mimetype": "text/x-python",
   "name": "python",
   "nbconvert_exporter": "python",
   "pygments_lexer": "ipython2",
   "version": "2.7.12"
  }
 },
 "nbformat": 4,
 "nbformat_minor": 2
}
