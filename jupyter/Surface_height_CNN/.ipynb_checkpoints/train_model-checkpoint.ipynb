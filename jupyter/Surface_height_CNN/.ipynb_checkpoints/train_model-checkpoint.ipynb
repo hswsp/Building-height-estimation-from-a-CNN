{
 "cells": [
  {
   "cell_type": "code",
   "execution_count": null,
   "metadata": {},
   "outputs": [],
   "source": [
    "%%time\n",
    "#加载必要的库\n",
    "import numpy as np\n",
    "import matplotlib.pyplot as plt\n",
    "%matplotlib inline\n",
    "import sys,os,caffe\n",
    "\n",
    "#设置当前目录\n",
    "caffe_root = '/home/Shengping/caffe/' \n",
    "sys.path.insert(0, caffe_root + 'python')\n",
    "\n",
    "os.chdir('/home/smiletranquilly/FYP/')\n",
    "\n",
    "# set the solver prototxt\n",
    "caffe.set_device(0)\n",
    "caffe.set_mode_gpu()\n",
    "solver = caffe.SGDSolver('largeImage/google_solver.prototxt')\n",
    "\n",
    "\n",
    "niter =500000\n",
    "test_interval = 1000\n",
    "train_loss = np.zeros(niter)\n",
    "test_acc = np.zeros(int(np.ceil(niter / test_interval)))\n",
    "\n",
    "# the main solver loop\n",
    "for it in range(niter):\n",
    "    solver.step(1)  # SGD by Caffe\n",
    "    \n",
    "    # store the train loss\n",
    "    train_loss[it] = solver.net.blobs['loss'].data\n",
    "    solver.test_nets[0].forward(start='conv1/7x7_s2')\n",
    "    \n",
    "    if it % test_interval == 0:\n",
    "        acc=solver.test_nets[0].blobs['accuracy'].data\n",
    "        print 'Iteration', it, 'testing...','accuracy:',acc\n",
    "        test_acc[it // test_interval] = acc\n",
    "        \n",
    "print test_acc\n",
    "_, ax1 = plt.subplots()\n",
    "ax2 = ax1.twinx()\n",
    "ax1.plot(np.arange(niter), train_loss)\n",
    "ax2.plot(test_interval * np.arange(len(test_acc)), test_acc, 'r')\n",
    "ax1.set_xlabel('iteration')\n",
    "ax1.set_ylabel('train loss')\n",
    "ax2.set_ylabel('test accuracy')"
   ]
  },
  {
   "cell_type": "code",
   "execution_count": null,
   "metadata": {},
   "outputs": [],
   "source": []
  }
 ],
 "metadata": {
  "kernelspec": {
   "display_name": "Python 2",
   "language": "python",
   "name": "python2"
  },
  "language_info": {
   "codemirror_mode": {
    "name": "ipython",
    "version": 2
   },
   "file_extension": ".py",
   "mimetype": "text/x-python",
   "name": "python",
   "nbconvert_exporter": "python",
   "pygments_lexer": "ipython2",
   "version": "2.7.12"
  }
 },
 "nbformat": 4,
 "nbformat_minor": 2
}
