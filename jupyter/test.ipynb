{
 "cells": [
  {
   "cell_type": "code",
   "execution_count": 4,
   "metadata": {},
   "outputs": [
    {
     "name": "stdout",
     "output_type": "stream",
     "text": [
      "[[[0.60391753 0.18931447]\n",
      "  [0.76292725 0.35540197]]\n",
      "\n",
      " [[0.69325796 0.27977536]\n",
      "  [0.25286935 0.13519635]]\n",
      "\n",
      " [[0.50726361 0.8914573 ]\n",
      "  [0.06164101 0.87683678]]]\n",
      "[[[0.60391753 0.18931447]\n",
      "  [0.76292725 0.35540197]]\n",
      "\n",
      " [[0.69325796 0.27977536]\n",
      "  [0.25286935 0.13519635]]\n",
      "\n",
      " [[0.50726361 0.8914573 ]\n",
      "  [0.06164101 0.87683678]]]\n",
      "[[0.50726361 0.8914573 ]\n",
      " [0.06164101 0.87683678]]\n"
     ]
    }
   ],
   "source": [
    "import numpy as np\n",
    "a=np.random.rand(3,2,2)\n",
    "print a\n",
    "print a[:]\n",
    "print a[2,...]"
   ]
  },
  {
   "cell_type": "code",
   "execution_count": 5,
   "metadata": {},
   "outputs": [
    {
     "name": "stdout",
     "output_type": "stream",
     "text": [
      "3\n"
     ]
    }
   ],
   "source": [
    "print len(a)"
   ]
  },
  {
   "cell_type": "code",
   "execution_count": 9,
   "metadata": {},
   "outputs": [
    {
     "name": "stdout",
     "output_type": "stream",
     "text": [
      "2\n",
      "3\n",
      "4\n",
      "\n",
      "\n",
      "[1, 2, 3]\n"
     ]
    }
   ],
   "source": [
    "a=[1, 2,3 ,4, 5, 6, 7 ,8 ,9 ,10]\n",
    "for i in range(2,5):\n",
    "    print i\n",
    "    #print a[i]\n",
    "print '\\n'\n",
    "print a[:3]"
   ]
  },
  {
   "cell_type": "code",
   "execution_count": 12,
   "metadata": {},
   "outputs": [
    {
     "name": "stdout",
     "output_type": "stream",
     "text": [
      "[[1 2]\n",
      " [3 4]\n",
      " [5 6]]\n",
      "(3, 2)\n",
      "2\n"
     ]
    }
   ],
   "source": [
    "import numpy as np\n",
    "a=[0 for i in range(3)]\n",
    "a[1]=[3,4]\n",
    "a[0]=[1,2]\n",
    "a[2]=[5,6]\n",
    "a=np.array(a)\n",
    "print a\n",
    "print a.shape\n",
    "print a.shape[1]"
   ]
  },
  {
   "cell_type": "code",
   "execution_count": null,
   "metadata": {},
   "outputs": [],
   "source": []
  }
 ],
 "metadata": {
  "kernelspec": {
   "display_name": "Python 2",
   "language": "python",
   "name": "python2"
  },
  "language_info": {
   "codemirror_mode": {
    "name": "ipython",
    "version": 2
   },
   "file_extension": ".py",
   "mimetype": "text/x-python",
   "name": "python",
   "nbconvert_exporter": "python",
   "pygments_lexer": "ipython2",
   "version": "2.7.12"
  }
 },
 "nbformat": 4,
 "nbformat_minor": 2
}
